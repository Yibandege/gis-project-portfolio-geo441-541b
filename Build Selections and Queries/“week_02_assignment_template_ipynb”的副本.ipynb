{
  "nbformat": 4,
  "nbformat_minor": 0,
  "metadata": {
    "colab": {
      "provenance": [],
      "include_colab_link": true
    },
    "kernelspec": {
      "name": "python3",
      "display_name": "Python 3"
    },
    "language_info": {
      "name": "python"
    }
  },
  "cells": [
    {
      "cell_type": "markdown",
      "metadata": {
        "id": "view-in-github",
        "colab_type": "text"
      },
      "source": [
        "<a href=\"https://colab.research.google.com/github/Yibandege/gis-project-portfolio-geo441-541b/blob/main/%E2%80%9Cweek_02_assignment_template_ipynb%E2%80%9D%E7%9A%84%E5%89%AF%E6%9C%AC.ipynb\" target=\"_parent\"><img src=\"https://colab.research.google.com/assets/colab-badge.svg\" alt=\"Open In Colab\"/></a>"
      ]
    },
    {
      "cell_type": "markdown",
      "source": [],
      "metadata": {
        "id": "aPF8PTw70fHp"
      }
    },
    {
      "cell_type": "markdown",
      "source": [
        "# **GEO 441B/541B Week 2 Assignment: Data Model and More Mapping**"
      ],
      "metadata": {
        "id": "C0ymCPR5aSHN"
      }
    },
    {
      "cell_type": "markdown",
      "source": [
        "🚀 Created by Zhaolong Zhang\n",
        "\n",
        "[09/17/2024]"
      ],
      "metadata": {
        "id": "Pt_OREXFPvkr"
      }
    },
    {
      "cell_type": "markdown",
      "source": [
        "## **Get ready to start**\n",
        "\n",
        "- Click **`File/Save a copy in Drive`** to save a copy of this notebook to my own Google Drive"
      ],
      "metadata": {
        "id": "CMQN_pgaHVLO"
      }
    },
    {
      "cell_type": "markdown",
      "source": [],
      "metadata": {
        "id": "UM6OVubnwALG"
      }
    },
    {
      "cell_type": "markdown",
      "source": [],
      "metadata": {
        "id": "zEIxCibFwAJU"
      }
    },
    {
      "cell_type": "markdown",
      "source": [
        "## **Adding multiple map frames to one layout**\n"
      ],
      "metadata": {
        "id": "WVs4J1jQbESU"
      }
    },
    {
      "cell_type": "markdown",
      "source": [
        "\n",
        "### **Map with only one map frame**\n",
        "\n",
        "- Below is a map with only one map frame that I created last week\n",
        "\n",
        "```markdown\n",
        "https://drive.google.com/file/d/1srhm7HX7IOWf8WIyBgDBFhf9lCAVZr8H/view?usp=drive_link\n",
        "\n",
        "```\n",
        "\n",
        "- After finishing the two steps below, I was able to create a link can be correctly rendered in Google Colab to show the map\n",
        "  - Deleted **`/view?usp=sharing`** at the end of the link\n",
        "  - Replaced **`/file/d/`** with **`/uc?export=view&id=`**\n",
        "\n",
        "```markdown\n",
        "https://drive.google.com/file/d/1srhm7HX7IOWf8WIyBgDBFhf9lCAVZr8H/uc?export=view&id=drive_link\n",
        "```\n",
        "\n",
        "- The map can be inserted in Google Colab following the syntax [from here](https://www.markdownguide.org/cheat-sheet/)\n",
        "![Map Image](path-to-your-image)\n"
      ],
      "metadata": {
        "id": "GSCJLg-YkOIx"
      }
    },
    {
      "cell_type": "markdown",
      "source": [
        "###**Map with multiple map frames**\n",
        "\n",
        "- Below is a map with **two map frames** I prepared this week\n",
        "\n",
        "```markdown\n",
        "https://drive.google.com/file/d/1ZsK6E-wguXTUiGSkCkK3iQ7dCgPsyVr8/view?usp=drive_link\n",
        "```\n",
        "\n",
        "- After finishing the two steps below, I was able to create a link can be correctly rendered in Google Colab to show the map\n",
        "  - Deleted **`/view?usp=sharing`** at the end of the link\n",
        "  - Replaced **`/file/d/`** with **`/uc?export=view&id=`**\n",
        "\n",
        "```markdown\n",
        "![Map with one map frame](https://drive.google.com/uc?export=view&id=1srhm7HX7IOWf8WIyBgDBFhf9lCAVZr8H)\n",
        "\n",
        "```\n",
        "\n",
        "- The map can be inserted in Google Colab following the syntax [from here]![Map with two map frames](https://drive.google.com/uc?export=view&id=1ZsK6E-wguXTUiGSkCkK3iQ7dCgPsyVr8)\n",
        "\n",
        "\n",
        "![Map Image](path-to-your-image)"
      ],
      "metadata": {
        "id": "wkJqun7umRRk"
      }
    },
    {
      "cell_type": "markdown",
      "source": [
        "##**Create a geodatabase in ArcGIS Pro**\n",
        "\n",
        "- Follow directions in [this file](https://miamioh.instructure.com/courses/218994/files/32772417?wrap=1) to create a new geodatabase and feature dataset using ArcGIS Pro\n",
        "\n",
        "- Insert a screenshot of the content of my newly created geodatabase below\n",
        "  - [Taking a screenshot in Windows PC](https://www.cnet.com/tech/computing/need-to-take-a-screenshot-with-windows-11-heres-how/)\n",
        "  - [Taking a screenshot in macOS](https://support.apple.com/en-us/102646#:~:text=How%20to%20take%20a%20screenshot,it%20to%20edit%20the%20screenshot.)\n",
        "    - Mac users: if you are using remote access to finish this step, please follow the directions of taking a screenshot in macOS to obtain your screenshot\n",
        "- I can follow the directions in the previous section to obtain a shareable link from Google Drive and turn it into a render-able format for Google Colab\n",
        "\n",
        "![Catalog Project Image](path-to-your-image)\n"
      ],
      "metadata": {
        "id": "Y1LEwJhSmiRU"
      }
    },
    {
      "cell_type": "markdown",
      "source": [
        "## **Reflection on data management function in ArcGIS Pro**\n",
        "\n",
        "- **Write a 100-word paragraph to describe the relationship between**\n",
        "  - **`Geodatabase`**\n",
        "  - **`Feature Dataset`**\n",
        "  - **`Feature Classes`**\n",
        "  - You can refer to **Page 9** of [assignment guide](https://miamioh.instructure.com/files/32771219/download?download_frd=1) or other resources online, such as\n",
        "    - [Fundamentals of geodatabase](https://pro.arcgis.com/en/pro-app/latest/help/data/geodatabases/overview/fundamentals-of-the-geodatabase.htm)\n",
        "    - [Feature datasets in ArcGIS Pro](https://pro.arcgis.com/en/pro-app/latest/help/data/feature-datasets/feature-datasets-in-arcgis-pro.htm)\n",
        "- A Geodatabase is a storage system used in GIS to organize, manage, and store spatial data efficiently. It can contain various types of data, including raster and vector data. A Feature Dataset is a collection within the geodatabase that groups related Feature Classes. Feature datasets ensure that all feature classes share the same spatial reference system, which helps maintain consistency in spatial analysis. Feature Classes are the individual data layers within the feature dataset, representing different geographic features (points, lines, polygons). This hierarchical structure promotes efficient organization, data management, and complex spatial relationships in GIS projects.\n"
      ],
      "metadata": {
        "id": "i4RTLellbUh7"
      }
    },
    {
      "cell_type": "markdown",
      "source": [
        "## **Save and share this notebook**\n",
        "\n",
        "- I made this notebook viewable by anyone with the link and submit the link to Canvas as Week 2 assignment"
      ],
      "metadata": {
        "id": "kkgukjDcXsqC"
      }
    },
    {
      "cell_type": "markdown",
      "source": [
        "## **Reference**\n",
        "\n",
        "- [Markdown cheat sheet](https://www.markdownguide.org/cheat-sheet/)\n",
        "- [Insert other references]"
      ],
      "metadata": {
        "id": "fvMbEX89YLeY"
      }
    }
  ]
}